{
 "cells": [
  {
   "cell_type": "markdown",
   "id": "5fd15c23-1927-4baf-bc36-3c2bd2474c39",
   "metadata": {},
   "source": [
    "## CAMB-iDEDM Demo\n",
    "In this notebook, I show briefly how to use the CAMB-iDEDM Python interface"
   ]
  },
  {
   "cell_type": "code",
   "execution_count": 1,
   "id": "b765154c-bae8-429f-8cfe-7db597e2ac0f",
   "metadata": {},
   "outputs": [
    {
     "name": "stdout",
     "output_type": "stream",
     "text": [
      "Using CAMB 1.3.8 installed at /home/user/cosmo/CAMB-iDEDM/camb\n"
     ]
    }
   ],
   "source": [
    "%matplotlib inline\n",
    "%config InlineBackend.figure_format = 'retina'\n",
    "import sys, os\n",
    "from matplotlib import pyplot as plt\n",
    "import numpy as np\n",
    "\n",
    "camb_path = os.path.realpath(os.path.join(os.getcwd(),'..'))\n",
    "sys.path.insert(0,camb_path)\n",
    "import camb\n",
    "print('Using CAMB %s installed at %s'%(camb.__version__,os.path.dirname(camb.__file__)))\n",
    "# Make sure the version and path is what you expect"
   ]
  },
  {
   "cell_type": "code",
   "execution_count": 5,
   "metadata": {},
   "outputs": [],
   "source": [
    "xis = [0, -0.1, -0.2, -0.5, -1]\n",
    "\n",
    "plt.rcParams.update({'font.size': 15})\n",
    "fig, axs = plt.subplots(2, 1, figsize=(8,10))\n",
    "for xi in xis:\n",
    "    pars = camb.CAMBparams()\n",
    "    pars.set_cosmology(thetastar=0.0104, ombh2=0.022, omch2=0.122, mnu=0.06, omk=0, tau=0.06)\n",
    "    pars.DarkEnergy.set_params(xi_interaction=xi, w=-0.999)\n",
    "    pars.set_matter_power(redshifts=[0], kmax=2.0)\n",
    "    results = camb.get_results(pars)\n",
    "\n",
    "    cmb_spectra = results.get_cmb_power_spectra(pars, CMB_unit='muK')\n",
    "    ks, z, pk = results.get_matter_power_spectrum(minkh=1e-3, maxkh=1, npoints = 200)\n",
    "    c_ells = cmb_spectra['total']\n",
    "    ells = np.arange(c_ells.shape[0])\n",
    "    axs[0].semilogx(ells, c_ells[:,0])\n",
    "    axs[1].loglog(ks, pk[0])\n",
    "\n",
    "plt.legend([r'$\\xi = {:.1f}$'.format(xi) for xi in xis])\n",
    "axs[0].set_xlabel(r'$\\ell$')\n",
    "axs[0].set_ylabel(r'$C^{TT}_\\ell$')\n",
    "plt.savefig(\"iDEDM_Power_Spectra.pdf\")"
   ]
  },
  {
   "cell_type": "code",
   "execution_count": null,
   "id": "ed32864c-7938-4bc9-b88a-46b34009ea97",
   "metadata": {},
   "outputs": [],
   "source": []
  }
 ],
 "metadata": {
  "kernelspec": {
   "display_name": "Python 3 (ipykernel)",
   "language": "python",
   "name": "python3"
  },
  "language_info": {
   "codemirror_mode": {
    "name": "ipython",
    "version": 3
   },
   "file_extension": ".py",
   "mimetype": "text/x-python",
   "name": "python",
   "nbconvert_exporter": "python",
   "pygments_lexer": "ipython3",
   "version": "3.10.12"
  }
 },
 "nbformat": 4,
 "nbformat_minor": 5
}
